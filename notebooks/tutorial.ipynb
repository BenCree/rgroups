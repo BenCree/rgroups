{
 "cells": [
  {
   "cell_type": "markdown",
   "id": "9c4c7edd",
   "metadata": {},
   "source": [
    "# FEgrow: An Open-Source Molecular Builder and Free Energy Preparation Workflow\n",
    "\n",
    "**Authors: Mateusz K Bieniek, Ben Cree, Rachael Pirie, Joshua T. Horton, Natalie J. Tatum, Daniel J. Cole**\n",
    "\n",
    "* Add chemical functional groups (R-groups) in user-defined positions\n",
    "* Output ADMET properties\n",
    "* Perform constrained optimisation\n",
    "* Score poses\n",
    "* Output structures for free energy calculations"
   ]
  },
  {
   "cell_type": "markdown",
   "id": "ba86bf5e",
   "metadata": {},
   "source": [
    "## Overview\n",
    "\n",
    "This notebook demonstrates the entire `FEgrow` workflow for generating a series of ligands with a common core for a specific binding site, via the addition of a user-defined set of R-groups. \n",
    "\n",
    "These *de novo* ligands are then subjected to ADMET analysis. Valid conformers of the added R-groups are enumerated, and optimised in the context of the receptor binding pocket, optionally using hybrid machine learning / molecular mechanics potentials (ML/MM).\n",
    "\n",
    "An ensemble of low energy conformers is generated for each ligand, and scored using the `gnina` convolutional neural network (CNN). Output structures are saved as `pdb` files ready for use in free energy calculations.\n",
    "\n",
    "The target for this tutorial is the main protease (Mpro) of SARS-CoV-2, and the core and receptor structures are taken from a [recent study by Jorgensen & co-workers](https://doi.org/10.1021/acscentsci.1c00039)."
   ]
  },
  {
   "cell_type": "code",
   "execution_count": null,
   "id": "10a1f1b0",
   "metadata": {},
   "outputs": [],
   "source": [
    "import prody\n",
    "from rdkit import Chem\n",
    "\n",
    "import fegrow\n",
    "from fegrow import RGroups, Linkers\n",
    "\n",
    "# Initialise libraries\n",
    "rgroups = RGroups()\n",
    "linkers = Linkers()"
   ]
  },
  {
   "cell_type": "markdown",
   "id": "cd53ff25",
   "metadata": {},
   "source": [
    "# Prepare the ligand template"
   ]
  },
  {
   "cell_type": "markdown",
   "id": "0affb666",
   "metadata": {},
   "source": [
    "The provided core structure `lig.pdb` has been extracted from a crystal structure of Mpro in complex with compound **4** from the Jorgensen study (PDB: 7L10), and a Cl atom has been removed to allow growth into the S3/S4 pocket. The template structure of the ligand is protonated with [Open Babel](http://openbabel.org/wiki/Main_Page):"
   ]
  },
  {
   "cell_type": "code",
   "execution_count": null,
   "id": "ffb3aaa1",
   "metadata": {},
   "outputs": [],
   "source": [
    "!obabel sarscov2/lig.pdb -O sarscov2/coreh.sdf -p 7"
   ]
  },
  {
   "cell_type": "markdown",
   "id": "f968178c",
   "metadata": {},
   "source": [
    "Load the protonated ligand into FEgrow:"
   ]
  },
  {
   "cell_type": "code",
   "execution_count": null,
   "id": "b8c3547f",
   "metadata": {},
   "outputs": [],
   "source": [
    "init_mol = Chem.SDMolSupplier('sarscov2/coreh.sdf', removeHs=False)[0]\n",
    "\n",
    "# get the FEgrow representation of the rdkit Mol\n",
    "template = fegrow.RMol(init_mol)"
   ]
  },
  {
   "cell_type": "markdown",
   "id": "e27c172f",
   "metadata": {},
   "source": [
    "Show the 2D (with indices) representation of the core. This is used to select the desired growth vector."
   ]
  },
  {
   "cell_type": "code",
   "execution_count": null,
   "id": "9a7309b1",
   "metadata": {},
   "outputs": [],
   "source": [
    "template.rep2D(idx=True, size=(500, 500))"
   ]
  },
  {
   "cell_type": "markdown",
   "id": "6f36f867",
   "metadata": {},
   "source": [
    "Using the 2D drawing, select an index for the growth vector. Note that it is currently only possible to grow from hydrogen atom positions. In this case, we are selecting the hydrogen atom labelled H:40 to enable growth into the S3/S4 pocket of Mpro."
   ]
  },
  {
   "cell_type": "code",
   "execution_count": null,
   "id": "af6bc417",
   "metadata": {},
   "outputs": [],
   "source": [
    "attachment_index = [40]"
   ]
  },
  {
   "cell_type": "markdown",
   "id": "5c9745f2-ecc4-42de-9ec8-166a76d4987f",
   "metadata": {},
   "source": [
    "# Optional: insert a linker"
   ]
  },
  {
   "cell_type": "markdown",
   "id": "de28cb50-a9c9-43a4-8d29-4c22918ad400",
   "metadata": {},
   "source": [
    "We have added a library of linkers suggested by [Ertl et al](https://www.sciencedirect.com/science/article/abs/pii/S0968089623000421). If you wish to extend your R groups selection via a linker, select them below. :1 is defined to be attached to the core (there exists a mirror image of each linker i.e. :1 & *:2 swapped).\n",
    "\n",
    "Linkers combinatorially augment chosen R groups, so if you choose 2 linkers and 3 R groups, this will result in 6 molecules being built.\n",
    "\n",
    "### Note : If you want to use linkers make sure that you use the correct function below, in cell [11]."
   ]
  },
  {
   "cell_type": "code",
   "execution_count": null,
   "id": "59469f76",
   "metadata": {},
   "outputs": [],
   "source": [
    "linkers"
   ]
  },
  {
   "cell_type": "code",
   "execution_count": null,
   "id": "50150c74",
   "metadata": {},
   "outputs": [],
   "source": [
    "# get linkers programmatically\n",
    "api_linkers = [ \n",
    "    linkers[linkers.Name == 'R1CR2'].Mol.item(), \n",
    "    linkers.Mol[6], # use the linker table index directly, e.g. index 6 is \"R2COR1\"\n",
    "]\n",
    "\n",
    "# or pick linkers from the grid\n",
    "grid_linkers = linkers.get_selected()\n",
    "\n",
    "# use grid linkers\n",
    "selected_linkers = grid_linkers\n",
    "\n",
    "# create just one template merged with a linker\n",
    "templates_with_linkers = fegrow.build_molecules(template, selected_linkers, attachment_index)\n",
    "\n",
    "# visualise:\n",
    "# note that the linker leaves the second attachement point prespecified (* character)\n",
    "templates_with_linkers.rep2D(idx=True, size=(500, 500))"
   ]
  },
  {
   "cell_type": "markdown",
   "id": "dd712757",
   "metadata": {},
   "source": [
    "# Select RGroups for your template"
   ]
  },
  {
   "cell_type": "markdown",
   "id": "57599c23",
   "metadata": {},
   "source": [
    "R-groups can be selected interactively or programmaticaly.\n",
    "\n",
    "We have provided a set of common R-groups (see `fegrow/data/rgroups/library`), which can be browsed and selected interactively below.\n",
    "\n",
    "Molecules from the library can alternatively be selected by name, as demonstrated below.\n",
    "\n",
    "Finally, user-defined R-groups may be provided as `.mol` files. *In this case, the hydrogen atom selected for attachment should be replaced by the element symbol R.* See the directory `manual_rgroups` for examples."
   ]
  },
  {
   "cell_type": "code",
   "execution_count": null,
   "id": "94cea06a",
   "metadata": {},
   "outputs": [],
   "source": [
    "rgroups"
   ]
  },
  {
   "cell_type": "code",
   "execution_count": null,
   "id": "e2ab2f78",
   "metadata": {},
   "outputs": [],
   "source": [
    "# retrieve the interactively selected groups\n",
    "interactive_rgroups = rgroups.get_selected()\n",
    "\n",
    "# you can also directly access the built-in dataframe programmatically\n",
    "R_group_ethanol = rgroups[rgroups.Name == '*CCO'].Mol.item()\n",
    "\n",
    "# select the R-group using the index\n",
    "R_group_cyclopropane = rgroups.Mol[69] \n",
    "\n",
    "# use SMILES\n",
    "R_group_methanol = Chem.AddHs(Chem.MolFromSmiles('*CO'))\n",
    "\n",
    "# add your R-groups from files\n",
    "R_group_propanol = Chem.MolFromMolFile('manual_rgroups/propan-1-ol-r.mol', removeHs=False)\n",
    "\n",
    "# make a list of R-group molecule\n",
    "selected_rgroups = interactive_rgroups\n",
    "selected_rgroups"
   ]
  },
  {
   "cell_type": "markdown",
   "id": "fb0efd86",
   "metadata": {},
   "source": [
    "# Build a congeneric series"
   ]
  },
  {
   "cell_type": "markdown",
   "id": "66fec021",
   "metadata": {},
   "source": [
    "Now that the R-groups have been selected, we merge them with the ligand core:\n",
    "\n",
    "### Note : Use `rmols = fegrow.build_molecules(template_with_linker, selected_rgroups)` if using a linker, by commenting out the first `fegrow.build_molecules` function."
   ]
  },
  {
   "cell_type": "code",
   "execution_count": null,
   "id": "56dc6755",
   "metadata": {},
   "outputs": [],
   "source": [
    "# we can either use the original template (so no linker)\n",
    "# in this case we have to specify the attachment index\n",
    "# rmols = fegrow.build_molecules(template, selected_rgroups, attachment_index)\n",
    "\n",
    "# or we can use the template merged with the linker\n",
    "# in which case the attachement point is not needed (R* atom is used)\n",
    "rmols = fegrow.build_molecules(templates_with_linkers, selected_rgroups)\n",
    "rmols"
   ]
  },
  {
   "cell_type": "markdown",
   "id": "10a85a58",
   "metadata": {},
   "source": [
    "The R-group library can also be viewed as a 2D grid, or individual molecules can be selected for 3D view (note that the conformation of the R-group has not yet been optimised):"
   ]
  },
  {
   "cell_type": "code",
   "execution_count": null,
   "id": "7cd70172",
   "metadata": {},
   "outputs": [],
   "source": [
    "rmols.rep2D()"
   ]
  },
  {
   "cell_type": "code",
   "execution_count": null,
   "id": "8fca6f5f",
   "metadata": {},
   "outputs": [],
   "source": [
    "rmols[0].rep3D()"
   ]
  },
  {
   "cell_type": "markdown",
   "id": "579015f4",
   "metadata": {},
   "source": [
    "Once the ligands have been generated, they can be assessed for various ADMET properties, including Lipinksi rule of 5 properties, the presence of unwanted substructures or problematic functional groups, and synthetic accessibility."
   ]
  },
  {
   "cell_type": "code",
   "execution_count": null,
   "id": "c7feb871",
   "metadata": {},
   "outputs": [],
   "source": [
    "rmols.toxicity()"
   ]
  },
  {
   "cell_type": "markdown",
   "id": "96e85edd",
   "metadata": {},
   "source": [
    "For each ligand, a specified number of conformers (`num_conf`) is generated by using the RDKit [ETKDG algorithm](https://doi.org/10.1021/acs.jcim.5b00654). Conformers that are too similar to an existing structure are discarded. Empirically, we have found that `num_conf=200` gives an exhaustive search, and `num_conf=50` gives a reasonable, fast search, in most cases.\n",
    "\n",
    "If required, a third argument can be added `flexible=[0,1,...]`, which provides a list of additional atoms in the core that are allowed to be flexible. This is useful, for example, if growing from a methyl group and you would like the added R-group to freely rotate."
   ]
  },
  {
   "cell_type": "code",
   "execution_count": null,
   "id": "0c07ab01",
   "metadata": {},
   "outputs": [],
   "source": [
    "rmols.generate_conformers(num_conf=50, \n",
    "                          minimum_conf_rms=0.5, \n",
    "                          # flexible=[3, 18, 20])\n",
    "                        )"
   ]
  },
  {
   "cell_type": "markdown",
   "id": "e2015e8c",
   "metadata": {},
   "source": [
    "### Prepare the protein"
   ]
  },
  {
   "cell_type": "markdown",
   "id": "54a2ab68",
   "metadata": {},
   "source": [
    "The protein-ligand complex structure is downloaded, and [PDBFixer](https://github.com/openmm/pdbfixer) is used to protonate the protein, and perform other simple repair:"
   ]
  },
  {
   "cell_type": "code",
   "execution_count": null,
   "id": "b5667599",
   "metadata": {},
   "outputs": [],
   "source": [
    "# get the protein-ligand complex structure\n",
    "!wget -nc https://files.rcsb.org/download/7L10.pdb\n",
    "\n",
    "# load the complex with the ligand\n",
    "sys = prody.parsePDB('7L10.pdb')\n",
    "\n",
    "# remove any unwanted molecules\n",
    "rec = sys.select('not (nucleic or hetatm or water)')\n",
    "\n",
    "# save the processed protein\n",
    "prody.writePDB('rec.pdb', rec)\n",
    "\n",
    "# fix the receptor file (missing residues, protonation, etc)\n",
    "fegrow.fix_receptor(\"rec.pdb\", \"rec_final.pdb\")\n",
    "\n",
    "# load back into prody\n",
    "rec_final = prody.parsePDB(\"rec_final.pdb\")"
   ]
  },
  {
   "cell_type": "markdown",
   "id": "3460a39b",
   "metadata": {},
   "source": [
    "View enumerated conformers in complex with protein:"
   ]
  },
  {
   "cell_type": "code",
   "execution_count": null,
   "id": "9374e421",
   "metadata": {},
   "outputs": [],
   "source": [
    "rmols[0].rep3D(prody=rec_final)"
   ]
  },
  {
   "cell_type": "markdown",
   "id": "75fc77b7",
   "metadata": {},
   "source": [
    "Any conformers that clash with the protein (any atom-atom distance less than 1 Angstrom), are removed."
   ]
  },
  {
   "cell_type": "code",
   "execution_count": null,
   "id": "858739ac",
   "metadata": {},
   "outputs": [],
   "source": [
    "rmols.remove_clashing_confs(rec_final)"
   ]
  },
  {
   "cell_type": "code",
   "execution_count": null,
   "id": "d30c0540",
   "metadata": {},
   "outputs": [],
   "source": [
    "rmols[0].rep3D(prody=rec_final)"
   ]
  },
  {
   "cell_type": "markdown",
   "id": "066014d6",
   "metadata": {},
   "source": [
    "### Optimise conformers in context of protein"
   ]
  },
  {
   "cell_type": "markdown",
   "id": "b02e8d1b",
   "metadata": {},
   "source": [
    "The remaining conformers are optimised using hybrid machine learning / molecular mechanics (ML/MM), using the [ANI2x](https://doi.org/10.1021/acs.jctc.0c00121) neural nework potential for the ligand energetics (as long as it contains only the atoms H, C, N, O, F, S, Cl). Note that the Open Force Field [Parsley](https://doi.org/10.1021/acs.jctc.1c00571) force field is used for intermolecular interactions with the receptor.\n",
    "\n",
    "`sigma_scale_factor`: is used to scale the Lennard-Jones radii of the atoms.\n",
    "\n",
    "`relative_permittivity`: is used to scale the electrostatic interactions with the protein.\n",
    "\n",
    "`water_model`: can be used to set the force field for any water molecules present in the binding site."
   ]
  },
  {
   "cell_type": "code",
   "execution_count": null,
   "id": "d35f2ca1",
   "metadata": {},
   "outputs": [],
   "source": [
    "# opt_mol, energies\n",
    "energies = rmols.optimise_in_receptor(\n",
    "    receptor_file=\"rec_final.pdb\", \n",
    "    ligand_force_field=\"openff\", \n",
    "    use_ani=True,\n",
    "    sigma_scale_factor=0.8,\n",
    "    relative_permittivity=4,\n",
    "    water_model = None,\n",
    "    platform_name = 'CPU', # or e.g. 'CUDA'\n",
    ")"
   ]
  },
  {
   "cell_type": "markdown",
   "id": "a416d638",
   "metadata": {},
   "source": [
    "Any of the rmols that have no available conformers (due to unresolvable steric clashes with the protein) can be discarded using the `.discard_missing()` function. This function also returns a list of the indices that were removed, which can be helpful when carrying out data analysis."
   ]
  },
  {
   "cell_type": "code",
   "execution_count": null,
   "id": "c4d41da2",
   "metadata": {},
   "outputs": [],
   "source": [
    "missing_ids = rmols.discard_missing()"
   ]
  },
  {
   "cell_type": "markdown",
   "id": "698fecce",
   "metadata": {},
   "source": [
    "Optionally, display the final optimised conformers. Note that, unlike classical force fields, ANI allows bond breaking. You may occasionally see ligands with distorted structures and very long bonds, but in our experience these are rarely amongst the low energy structures and can be ignored."
   ]
  },
  {
   "cell_type": "markdown",
   "id": "13fa9245",
   "metadata": {},
   "source": [
    "Conformers are now sorted by energy, only retaining those within 5 kcal/mol of the lowest energy structure:"
   ]
  },
  {
   "cell_type": "code",
   "execution_count": null,
   "id": "3a2d37ea",
   "metadata": {},
   "outputs": [],
   "source": [
    "final_energies = rmols.sort_conformers(energy_range=5)"
   ]
  },
  {
   "cell_type": "code",
   "execution_count": null,
   "id": "121ffdda",
   "metadata": {},
   "outputs": [],
   "source": [
    "rmols[0].rep3D()"
   ]
  },
  {
   "cell_type": "markdown",
   "id": "a8bde92b",
   "metadata": {},
   "source": [
    "Save all of the lowest energy conformers to files and print the sorted energies in kcal/mol (shifted so that the lowest energy conformer is zero)."
   ]
  },
  {
   "cell_type": "code",
   "execution_count": null,
   "id": "e2e3ec75",
   "metadata": {},
   "outputs": [],
   "source": [
    "for i, rmol in enumerate(rmols):\n",
    "    rmol.to_file(f\"best_conformers{i}.pdb\") "
   ]
  },
  {
   "cell_type": "code",
   "execution_count": null,
   "id": "8ad9d1a9",
   "metadata": {},
   "outputs": [],
   "source": [
    "print(final_energies)"
   ]
  },
  {
   "cell_type": "markdown",
   "id": "c522bbda",
   "metadata": {},
   "source": [
    "The conformers are scored using the [Gnina](https://github.com/gnina/gnina) molecular docking program and convolutional neural network scoring function. *[Note that this step is not supported on macOS].* If unavailable, the Gnina executable is downloaded during the first time it is used. The CNNscores may also be converted to predicted Kd (nM) (see column \"Kd\")."
   ]
  },
  {
   "cell_type": "code",
   "execution_count": null,
   "id": "cdf7edc0",
   "metadata": {},
   "outputs": [],
   "source": [
    "affinities = rmols.gnina(receptor_file=\"rec_final.pdb\") \n",
    "affinities"
   ]
  },
  {
   "cell_type": "markdown",
   "id": "b8800fee",
   "metadata": {},
   "source": [
    "Predicted binding affinities may be further refined using the structures output by `FEgrow`, using your favourite free energy calculation engine. See our paper for an example using [SOMD](https://github.com/michellab/Sire) to calculate the relative binding free energies of 13 Mpro inhibitors."
   ]
  },
  {
   "cell_type": "code",
   "execution_count": null,
   "id": "02dd7ad6",
   "metadata": {},
   "outputs": [],
   "source": [
    "# display units\n",
    "affinities.Kd"
   ]
  },
  {
   "cell_type": "code",
   "execution_count": null,
   "id": "a4766b3d-f6d0-4c17-bdb0-55696a12e7af",
   "metadata": {},
   "outputs": [],
   "source": []
  }
 ],
 "metadata": {
  "kernelspec": {
   "display_name": "fegrow",
   "language": "python",
   "name": "fegrow"
  },
  "language_info": {
   "codemirror_mode": {
    "name": "ipython",
    "version": 3
   },
   "file_extension": ".py",
   "mimetype": "text/x-python",
   "name": "python",
   "nbconvert_exporter": "python",
   "pygments_lexer": "ipython3",
   "version": "3.10.10"
  }
 },
 "nbformat": 4,
 "nbformat_minor": 5
}
